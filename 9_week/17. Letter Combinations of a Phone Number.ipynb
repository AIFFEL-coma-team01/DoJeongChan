{
 "cells": [
  {
   "cell_type": "code",
   "execution_count": 1,
   "metadata": {},
   "outputs": [],
   "source": [
    "from typing import List\n",
    "class Solution:\n",
    "    \n",
    "\n",
    "    def letterCombinations(self, digits: str) -> List[str]:\n",
    "        phone = {\n",
    "            '2' : ['a', 'b', 'c'],\n",
    "            '3' : ['d', 'e', 'f'],\n",
    "            '4' : ['g', 'h', 'i'],\n",
    "            '5' : ['j', 'k', 'l'],\n",
    "            '6' : ['m', 'n', 'o'],\n",
    "            '7' : ['p', 'q', 'r', 's'],\n",
    "            '8' : ['t', 'u', 'v'],\n",
    "            '9' : ['w', 'x', 'y', 'z']\n",
    "        }\n",
    "        \n",
    "        def backtrack(combination, next_digits):\n",
    "            if len(next_digits) == 0:\n",
    "                output.append(combination)\n",
    "            else:\n",
    "                for letter in phone[next_digits[0]]:\n",
    "                    backtrack(combination + letter, next_digits[1:])\n",
    "        \n",
    "        output = []\n",
    "        if digits:\n",
    "            backtrack(\"\", digits)\n",
    "        return output"
   ]
  }
 ],
 "metadata": {
  "kernelspec": {
   "display_name": "Python 3",
   "language": "python",
   "name": "python3"
  },
  "language_info": {
   "codemirror_mode": {
    "name": "ipython",
    "version": 3
   },
   "file_extension": ".py",
   "mimetype": "text/x-python",
   "name": "python",
   "nbconvert_exporter": "python",
   "pygments_lexer": "ipython3",
   "version": "3.7.1"
  }
 },
 "nbformat": 4,
 "nbformat_minor": 2
}
