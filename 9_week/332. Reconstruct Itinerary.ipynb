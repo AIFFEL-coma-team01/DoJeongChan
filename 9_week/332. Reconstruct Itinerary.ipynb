{
 "cells": [
  {
   "cell_type": "code",
   "execution_count": 1,
   "metadata": {},
   "outputs": [],
   "source": [
    "from typing import List\n",
    "\n",
    "class Solution:\n",
    "    def findItinerary(self, tickets: List[List[str]]) -> List[str]:\n",
    "        graph = collections.defaultdict(list)\n",
    "        for a , b in sorted(tickets):\n",
    "            graph[a].append(b)\n",
    "        print(graph)\n",
    "\n",
    "        route = []\n",
    "        def dfs(a):\n",
    "            while graph[a]:\n",
    "                dfs(graph[a].pop(0))\n",
    "            route.append(a)        \n",
    "        dfs('JFK')\n",
    "        return route[::-1]"
   ]
  },
  {
   "cell_type": "code",
   "execution_count": null,
   "metadata": {},
   "outputs": [],
   "source": []
  }
 ],
 "metadata": {
  "kernelspec": {
   "display_name": "Python 3",
   "language": "python",
   "name": "python3"
  },
  "language_info": {
   "codemirror_mode": {
    "name": "ipython",
    "version": 3
   },
   "file_extension": ".py",
   "mimetype": "text/x-python",
   "name": "python",
   "nbconvert_exporter": "python",
   "pygments_lexer": "ipython3",
   "version": "3.7.1"
  }
 },
 "nbformat": 4,
 "nbformat_minor": 2
}
