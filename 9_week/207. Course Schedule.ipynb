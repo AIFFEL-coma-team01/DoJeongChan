{
 "cells": [
  {
   "cell_type": "code",
   "execution_count": null,
   "metadata": {},
   "outputs": [],
   "source": [
    "class Solution:\n",
    "    def canFinish(self, numCourses: int, prerequisites: List[List[int]]) -> bool:\n",
    "        graph = collections.defaultdict(list)\n",
    "        for x, y in prerequisites:\n",
    "            graph[x].append(y)\n",
    "        \n",
    "        print(graph)\n",
    "        \n",
    "        traced = set()\n",
    "        visited = set()\n",
    "        \n",
    "        def dfs(i):\n",
    "            if i in traced:\n",
    "                return False\n",
    "            if i in visited:\n",
    "                return True\n",
    "\n",
    "            traced.add(i)\n",
    "            for y in graph[i]:\n",
    "                if not dfs(y):\n",
    "                    return False\n",
    "            traced.remove(i)\n",
    "            visited.add(i)\n",
    "            return True\n",
    "\n",
    "        for x in list(graph):\n",
    "            print(x)\n",
    "            if not dfs(x):\n",
    "                return False\n",
    "        return True"
   ]
  }
 ],
 "metadata": {
  "kernelspec": {
   "display_name": "Python 3",
   "language": "python",
   "name": "python3"
  },
  "language_info": {
   "codemirror_mode": {
    "name": "ipython",
    "version": 3
   },
   "file_extension": ".py",
   "mimetype": "text/x-python",
   "name": "python",
   "nbconvert_exporter": "python",
   "pygments_lexer": "ipython3",
   "version": "3.7.1"
  }
 },
 "nbformat": 4,
 "nbformat_minor": 2
}
