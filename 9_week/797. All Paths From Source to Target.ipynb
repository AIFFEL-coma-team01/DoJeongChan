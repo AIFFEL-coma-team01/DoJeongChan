{
 "cells": [
  {
   "cell_type": "code",
   "execution_count": null,
   "metadata": {},
   "outputs": [],
   "source": [
    "class Solution:\n",
    "    def allPathsSourceTarget(self, graph: List[List[int]]) -> List[List[int]]:\n",
    "        routes = []\n",
    "        \n",
    "        def dfs(val, route):\n",
    "            routes.append(route)\n",
    "            for elem in graph[val]:\n",
    "                dfs(elem, route + [elem])\n",
    "        \n",
    "        dfs(0, [0])\n",
    "        correct = []\n",
    "        for route in routes:\n",
    "            if route[-1] == len(graph) - 1:\n",
    "                correct.append(route)\n",
    "        return correct"
   ]
  }
 ],
 "metadata": {
  "kernelspec": {
   "display_name": "Python 3",
   "language": "python",
   "name": "python3"
  },
  "language_info": {
   "codemirror_mode": {
    "name": "ipython",
    "version": 3
   },
   "file_extension": ".py",
   "mimetype": "text/x-python",
   "name": "python",
   "nbconvert_exporter": "python",
   "pygments_lexer": "ipython3",
   "version": "3.7.1"
  }
 },
 "nbformat": 4,
 "nbformat_minor": 2
}
