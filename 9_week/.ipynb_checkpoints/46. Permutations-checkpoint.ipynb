{
 "cells": [
  {
   "cell_type": "code",
   "execution_count": 3,
   "metadata": {},
   "outputs": [],
   "source": [
    "from typing import List\n",
    "class Solution:\n",
    "    def permute(self, nums: List[int]) -> List[List[int]]:\n",
    "        \n",
    "        results = []\n",
    "        prev_elems = []\n",
    "\n",
    "        def dfs(elements):\n",
    "            if len(elements) == 0:\n",
    "                results.append(prev_elems[:])\n",
    "\n",
    "            for e in elements:\n",
    "                next_elems = elements[:]\n",
    "                next_elems.remove(e)\n",
    "\n",
    "                prev_elems.append(e)\n",
    "                dfs(next_elems)\n",
    "                prev_elems.pop()\n",
    "            \n",
    "        dfs(nums)\n",
    "        return results"
   ]
  },
  {
   "cell_type": "code",
   "execution_count": null,
   "metadata": {},
   "outputs": [],
   "source": []
  }
 ],
 "metadata": {
  "kernelspec": {
   "display_name": "Python 3",
   "language": "python",
   "name": "python3"
  },
  "language_info": {
   "codemirror_mode": {
    "name": "ipython",
    "version": 3
   },
   "file_extension": ".py",
   "mimetype": "text/x-python",
   "name": "python",
   "nbconvert_exporter": "python",
   "pygments_lexer": "ipython3",
   "version": "3.7.1"
  }
 },
 "nbformat": 4,
 "nbformat_minor": 2
}
