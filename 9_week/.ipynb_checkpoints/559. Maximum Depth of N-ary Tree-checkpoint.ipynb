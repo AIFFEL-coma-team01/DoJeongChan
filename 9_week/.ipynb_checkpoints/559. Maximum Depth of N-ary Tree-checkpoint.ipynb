{
 "cells": [
  {
   "cell_type": "code",
   "execution_count": null,
   "metadata": {},
   "outputs": [],
   "source": [
    "\"\"\"\n",
    "# Definition for a Node.\n",
    "class Node:\n",
    "    def __init__(self, val=None, children=None):\n",
    "        self.val = val\n",
    "        self.children = children\n",
    "\"\"\"\n",
    "\n",
    "class Solution:\n",
    "    def maxDepth(self, root: 'Node') -> int:\n",
    "        if root is None:\n",
    "            return 0\n",
    "        routes = []\n",
    "        def dfs(node, route):\n",
    "            routes.append(route)\n",
    "            for child in node.children:\n",
    "                dfs(child, route + [child.val])\n",
    "        \n",
    "        dfs(root, [1])\n",
    "        max_depth = len(max(routes, key=len))\n",
    "        return max_depth"
   ]
  }
 ],
 "metadata": {
  "kernelspec": {
   "display_name": "Python 3",
   "language": "python",
   "name": "python3"
  },
  "language_info": {
   "codemirror_mode": {
    "name": "ipython",
    "version": 3
   },
   "file_extension": ".py",
   "mimetype": "text/x-python",
   "name": "python",
   "nbconvert_exporter": "python",
   "pygments_lexer": "ipython3",
   "version": "3.7.1"
  }
 },
 "nbformat": 4,
 "nbformat_minor": 2
}
